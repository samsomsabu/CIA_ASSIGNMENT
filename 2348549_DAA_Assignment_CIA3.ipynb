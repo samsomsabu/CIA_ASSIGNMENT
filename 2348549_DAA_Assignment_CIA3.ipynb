GraphColoringRefactored Class: This class encapsulates the graph coloring algorithm and related functions.

Initialization: Upon initialization, the graph data is stored, and an empty dictionary node_colors to store the colors assigned to nodes is created. The minimum number of colors required is set to the number of nodes in the graph.

is_color_safe Method: This method checks if it's safe to assign a particular color to a node by examining its neighbors' colors.

color_graph_util Method: This is a recursive utility function to color the graph. It assigns colors to nodes one by one and checks if the color assignment is safe using the is_color_safe method.

color_graph Method: This is the main method that initiates the graph coloring process by calling the color_graph_util method for the first node in the graph.

Visualization: The class provides methods to visualize the initial graph, the backtracking steps during the coloring process, and the final colored graph using the NetworkX library and matplotlib.

display_min_num_colors Method: A method to print the minimum number of colors required to color the graph.

The example usage section demonstrates the utilization of the GraphColoringRefactored class using a sample graph and subsequently visualizes the initial graph, performs the coloring, displays the minimum required colors, and showcases the final colored graph.

