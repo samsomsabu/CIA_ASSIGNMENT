{
  "nbformat": 4,
  "nbformat_minor": 0,
  "metadata": {
    "colab": {
      "provenance": []
    },
    "kernelspec": {
      "name": "python3",
      "display_name": "Python 3"
    },
    "language_info": {
      "name": "python"
    }
  },
  "cells": [
    {
      "cell_type": "code",
      "source": [
        "import random\n",
        "import timeit\n"
      ],
      "metadata": {
        "id": "qpSofwUWhRz5"
      },
      "execution_count": null,
      "outputs": []
    },
    {
      "cell_type": "code",
      "source": [
        "\n",
        "def insertion_sort(arr):\n",
        "    for i in range(1, len(arr)):\n",
        "        key = arr[i]\n",
        "        j = i - 1\n",
        "        while j >= 0 and key < arr[j]:\n",
        "            arr[j + 1] = arr[j]\n",
        "            j -= 1\n",
        "        arr[j + 1] = key\n"
      ],
      "metadata": {
        "id": "t4cbGoEkhc9i"
      },
      "execution_count": null,
      "outputs": []
    },
    {
      "cell_type": "code",
      "source": [
        "\n",
        "def selection_sort(arr):\n",
        "    for i in range(len(arr)):\n",
        "        min_index = i\n",
        "        for j in range(i + 1, len(arr)):\n",
        "            if arr[j] < arr[min_index]:\n",
        "                min_index = j\n",
        "        arr[i], arr[min_index] = arr[min_index], arr[i]\n"
      ],
      "metadata": {
        "id": "A0kPAPbbiNUn"
      },
      "execution_count": null,
      "outputs": []
    },
    {
      "cell_type": "code",
      "source": [
        "\n",
        "def generate_random_array(size):\n",
        "    return [random.randint(1, 100) for _ in range(size)]\n",
        "\n"
      ],
      "metadata": {
        "id": "1ksKQIHHiPRG"
      },
      "execution_count": null,
      "outputs": []
    },
    {
      "cell_type": "code",
      "source": [
        "\n",
        "array_size = int(input(\"enter the array size:\"))\n",
        "random_array = generate_random_array(array_size)\n",
        "\n"
      ],
      "metadata": {
        "colab": {
          "base_uri": "https://localhost:8080/"
        },
        "id": "PRgo6NQwiQ20",
        "outputId": "035aa3ce-4fe1-40e9-805c-42be7480a6bd"
      },
      "execution_count": null,
      "outputs": [
        {
          "name": "stdout",
          "output_type": "stream",
          "text": [
            "enter the array size:1000\n"
          ]
        }
      ]
    },
    {
      "cell_type": "code",
      "source": [
        "print(random_array)"
      ],
      "metadata": {
        "id": "CZMV1gyLnYoZ",
        "outputId": "eb3c7982-5011-469f-9f19-4d97d7008b6b",
        "colab": {
          "base_uri": "https://localhost:8080/"
        }
      },
      "execution_count": null,
      "outputs": [
        {
          "output_type": "stream",
          "name": "stdout",
          "text": [
            "[36, 99, 69, 2, 46, 1, 1, 17, 2, 38, 60, 92, 29, 98, 37, 56, 47, 62, 80, 2, 54, 68, 29, 27, 40, 25, 23, 15, 54, 39, 13, 4, 25, 49, 27, 1, 14, 25, 98, 68, 72, 48, 59, 37, 34, 49, 94, 42, 68, 7, 46, 84, 44, 79, 81, 74, 78, 84, 44, 14, 2, 81, 7, 40, 12, 89, 4, 48, 8, 75, 7, 76, 50, 67, 48, 14, 71, 75, 79, 87, 46, 79, 81, 84, 29, 32, 46, 55, 14, 78, 96, 10, 5, 95, 37, 89, 64, 67, 95, 92, 66, 64, 62, 32, 16, 91, 34, 47, 51, 66, 72, 45, 66, 50, 7, 80, 48, 15, 89, 85, 61, 64, 70, 71, 80, 20, 27, 57, 84, 34, 96, 54, 4, 62, 9, 69, 97, 80, 17, 17, 7, 59, 20, 84, 14, 11, 7, 76, 86, 53, 19, 95, 27, 53, 38, 15, 68, 91, 63, 67, 93, 34, 4, 70, 2, 24, 22, 55, 70, 54, 56, 98, 9, 52, 84, 49, 84, 56, 18, 3, 38, 47, 49, 94, 16, 30, 91, 16, 12, 82, 51, 39, 66, 16, 54, 88, 57, 99, 68, 86, 95, 44, 79, 83, 46, 45, 57, 78, 19, 38, 60, 80, 52, 68, 86, 93, 8, 54, 18, 37, 13, 86, 62, 95, 62, 88, 72, 30, 99, 72, 1, 36, 52, 30, 26, 96, 53, 52, 97, 6, 52, 78, 56, 75, 66, 12, 17, 63, 97, 23, 42, 78, 26, 12, 42, 28, 49, 99, 58, 9, 79, 1, 24, 14, 31, 21, 76, 34, 39, 38, 26, 82, 58, 85, 44, 16, 47, 55, 76, 53, 46, 86, 49, 35, 74, 92, 73, 69, 57, 39, 63, 13, 53, 25, 39, 69, 66, 27, 70, 59, 58, 24, 75, 44, 33, 54, 80, 67, 70, 9, 66, 50, 39, 10, 49, 70, 91, 86, 87, 87, 94, 77, 23, 86, 29, 75, 13, 5, 58, 98, 33, 17, 48, 22, 99, 13, 96, 3, 68, 59, 58, 48, 94, 56, 71, 86, 44, 70, 50, 33, 68, 88, 88, 57, 33, 17, 80, 51, 52, 50, 52, 1, 38, 31, 15, 53, 31, 24, 71, 23, 80, 52, 48, 4, 84, 7, 2, 35, 26, 38, 61, 60, 22, 83, 77, 45, 35, 37, 94, 93, 28, 99, 17, 25, 88, 82, 36, 8, 81, 98, 14, 84, 5, 68, 69, 86, 36, 37, 46, 31, 87, 70, 39, 6, 8, 52, 98, 17, 29, 2, 72, 99, 38, 1, 50, 63, 27, 45, 57, 100, 7, 26, 80, 92, 5, 12, 54, 91, 70, 83, 51, 73, 82, 77, 35, 82, 75, 56, 92, 13, 35, 20, 54, 81, 97, 52, 12, 48, 36, 22, 11, 34, 50, 17, 50, 36, 32, 27, 59, 20, 16, 56, 51, 44, 85, 91, 95, 45, 93, 81, 95, 15, 60, 27, 57, 41, 23, 22, 5, 70, 4, 34, 60, 37, 47, 37, 37, 16, 14, 25, 68, 31, 65, 78, 10, 3, 36, 51, 16, 19, 84, 3, 68, 87, 63, 63, 87, 90, 8, 6, 44, 92, 64, 82, 97, 87, 89, 33, 33, 50, 56, 99, 30, 7, 57, 53, 45, 74, 5, 8, 86, 58, 50, 94, 28, 24, 85, 4, 37, 90, 45, 98, 54, 88, 39, 70, 81, 82, 94, 34, 27, 29, 51, 33, 54, 1, 27, 78, 48, 17, 86, 27, 72, 98, 53, 23, 22, 99, 75, 93, 71, 71, 36, 27, 11, 91, 73, 18, 60, 19, 95, 62, 21, 93, 57, 19, 51, 100, 30, 43, 54, 25, 98, 62, 37, 49, 39, 83, 46, 27, 88, 67, 28, 37, 78, 49, 38, 91, 50, 3, 60, 87, 4, 87, 78, 1, 64, 42, 72, 34, 1, 86, 40, 14, 79, 80, 49, 29, 20, 44, 36, 58, 62, 60, 53, 72, 37, 1, 82, 18, 69, 50, 97, 9, 39, 8, 20, 45, 69, 95, 30, 7, 68, 29, 34, 24, 63, 88, 83, 74, 12, 46, 70, 100, 47, 25, 13, 77, 95, 79, 8, 43, 45, 100, 28, 46, 61, 53, 51, 9, 29, 48, 81, 83, 88, 43, 55, 70, 30, 88, 15, 61, 97, 20, 10, 17, 27, 25, 23, 5, 81, 93, 73, 97, 18, 68, 25, 73, 48, 27, 64, 47, 72, 37, 25, 13, 87, 23, 5, 8, 20, 23, 41, 4, 72, 3, 35, 84, 49, 74, 39, 31, 21, 38, 47, 84, 60, 94, 60, 14, 76, 78, 75, 61, 85, 67, 42, 47, 13, 29, 45, 56, 79, 85, 91, 37, 99, 49, 100, 57, 93, 12, 98, 45, 64, 35, 42, 95, 65, 42, 13, 1, 95, 74, 55, 16, 63, 60, 36, 80, 77, 77, 84, 36, 21, 19, 73, 49, 67, 57, 94, 77, 95, 91, 92, 47, 68, 23, 5, 43, 10, 66, 29, 21, 74, 24, 84, 100, 77, 83, 64, 86, 69, 95, 83, 39, 5, 85, 54, 23, 20, 100, 96, 59, 60, 9, 2, 71, 89, 23, 29, 22, 84, 100, 78, 15, 28, 3, 77, 59, 45, 93, 6, 65, 74, 77, 15, 99, 89, 66, 16, 74, 59, 2, 78, 98, 43, 99, 1, 44, 34, 6, 88, 19, 26, 92, 10, 91, 46, 81, 24, 34, 62, 20, 5, 64, 31, 18, 26, 48, 6, 99, 90, 32, 59, 62, 61, 55, 50, 51, 98, 37, 25, 37, 98, 95, 4, 5, 88, 39, 87, 100, 7, 21, 44, 4, 66, 41, 16, 11, 85, 99, 49, 48, 24, 93, 17, 3, 57, 24, 73, 94, 96, 89, 21, 3, 33, 84, 5, 85, 83, 77, 66, 5, 73, 51, 82, 30, 18, 6, 66, 61, 70, 30, 68, 52, 31, 30, 16, 84, 45, 37, 14, 69, 36, 44, 65, 61, 12, 90, 69, 12, 18, 51, 99, 73, 47, 28, 33, 35, 43, 11, 46, 91, 15, 29, 29, 38, 65, 80, 77, 38, 4, 44, 49, 84, 27, 74, 21, 22]\n"
          ]
        }
      ]
    },
    {
      "cell_type": "code",
      "source": [
        "\n",
        "insertion_sort_array = random_array.copy()\n",
        "insertion_sort_time = timeit.timeit(lambda: insertion_sort(insertion_sort_array), number=1)\n",
        "\n"
      ],
      "metadata": {
        "id": "CXM-4f0hiTXj"
      },
      "execution_count": null,
      "outputs": []
    },
    {
      "cell_type": "code",
      "source": [
        "\n",
        "selection_sort_array = random_array.copy()\n",
        "selection_sort_time = timeit.timeit(lambda: selection_sort(selection_sort_array), number=1)\n"
      ],
      "metadata": {
        "id": "UBDFeCTjiWf1"
      },
      "execution_count": null,
      "outputs": []
    },
    {
      "cell_type": "code",
      "source": [
        "\n",
        "\n",
        "print(f\"Array size: {array_size}\")\n",
        "print(f\"Insertion Sort Time: {insertion_sort_time:.6f} seconds\")\n",
        "print(f\"Selection Sort Time: {selection_sort_time:.6f} seconds\")\n"
      ],
      "metadata": {
        "colab": {
          "base_uri": "https://localhost:8080/"
        },
        "id": "dFf-H0_KiYO_",
        "outputId": "529c1bc0-a96a-4753-ecff-be74a0e600c4"
      },
      "execution_count": null,
      "outputs": [
        {
          "output_type": "stream",
          "name": "stdout",
          "text": [
            "Array size: 1000\n",
            "Insertion Sort Time: 0.048144 seconds\n",
            "Selection Sort Time: 0.046611 seconds\n"
          ]
        }
      ]
    },
    {
      "cell_type": "code",
      "source": [],
      "metadata": {
        "id": "-ACqOA9aiY9A"
      },
      "execution_count": null,
      "outputs": []
    }
  ]
}